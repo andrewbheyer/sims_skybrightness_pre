version https://git-lfs.github.com/spec/v1
oid sha256:f9355da62ebd66fffce7b5bf7711d8263fc110f734ed56b71490650e259354e9
size 250471
