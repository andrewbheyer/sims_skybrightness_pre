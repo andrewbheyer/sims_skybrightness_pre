version https://git-lfs.github.com/spec/v1
oid sha256:fbb571851d1f9eefcdc6d5b5175265de5e3f1105152729297781d6ca646d7a51
size 1064068
