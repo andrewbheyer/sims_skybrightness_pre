version https://git-lfs.github.com/spec/v1
oid sha256:0abd0a2114bcfc6016412767c893bf480f2937cf9ff418ecbed4000d641af67f
size 7870756
